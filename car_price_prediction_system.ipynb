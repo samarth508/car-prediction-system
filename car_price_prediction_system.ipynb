{
 "cells": [
  {
   "cell_type": "markdown",
   "metadata": {},
   "source": [
    "# Data Analysis"
   ]
  },
  {
   "cell_type": "markdown",
   "metadata": {},
   "source": [
    "### import all packages"
   ]
  },
  {
   "cell_type": "code",
   "execution_count": 1,
   "metadata": {},
   "outputs": [],
   "source": [
    "import pandas as pd                # importing pandas as pd\n",
    "import numpy as np                 # importing numpy as np    \n",
    "import matplotlib.pyplot as plt    #importing matplotlib as plt\n",
    "import seaborn as sns              #importing seaborn as sns\n",
    "%matplotlib inline\n",
    "from datetime import date\n",
    "from datetime import time\n",
    "import tkinter as tk\n",
    "from tkinter import ttk\n",
    "import pickle\n",
    "import joblib\n",
    "import numpy as np\n",
    "import seaborn as sns\n",
    "from sklearn.utils import shuffle\n",
    "from sklearn.linear_model import LogisticRegression"
   ]
  },
  {
   "cell_type": "markdown",
   "metadata": {},
   "source": [
    "### Load the dataset"
   ]
  },
  {
   "cell_type": "code",
   "execution_count": 2,
   "metadata": {},
   "outputs": [],
   "source": [
    "car_data=pd.read_csv(\"car_price_predict_dataset.csv\",encoding='ANSI')"
   ]
  },
  {
   "cell_type": "markdown",
   "metadata": {},
   "source": [
    "### Remove all the insignificant columns\n"
   ]
  },
  {
   "cell_type": "code",
   "execution_count": 3,
   "metadata": {},
   "outputs": [
    {
     "data": {
      "text/plain": [
       "Index(['Brand', 'Model', 'Year', 'Kilometers_Driven', 'Fuel_Type',\n",
       "       'Transmission', 'Owner_Type', 'Mileage', 'Engine', 'Power', 'Seats',\n",
       "       'Price', 'paint_color'],\n",
       "      dtype='object')"
      ]
     },
     "execution_count": 3,
     "metadata": {},
     "output_type": "execute_result"
    }
   ],
   "source": [
    "car_data.drop(['S_number','New_Price','condition','Variant','Location'],axis=1,inplace=True)\n",
    "car_data.columns"
   ]
  },
  {
   "cell_type": "markdown",
   "metadata": {},
   "source": [
    "### Remove all duplicates"
   ]
  },
  {
   "cell_type": "code",
   "execution_count": 4,
   "metadata": {},
   "outputs": [],
   "source": [
    "car_data.drop_duplicates(inplace=True)"
   ]
  },
  {
   "cell_type": "markdown",
   "metadata": {},
   "source": [
    "### Remove blank rows  "
   ]
  },
  {
   "cell_type": "code",
   "execution_count": 5,
   "metadata": {},
   "outputs": [],
   "source": [
    "car_data.dropna(axis=0,how='all',inplace=True)"
   ]
  },
  {
   "cell_type": "markdown",
   "metadata": {},
   "source": [
    "### first 10 rows of dataset"
   ]
  },
  {
   "cell_type": "code",
   "execution_count": 6,
   "metadata": {},
   "outputs": [
    {
     "name": "stdout",
     "output_type": "stream",
     "text": [
      "(6018, 13)\n"
     ]
    },
    {
     "data": {
      "text/html": [
       "<div>\n",
       "<style scoped>\n",
       "    .dataframe tbody tr th:only-of-type {\n",
       "        vertical-align: middle;\n",
       "    }\n",
       "\n",
       "    .dataframe tbody tr th {\n",
       "        vertical-align: top;\n",
       "    }\n",
       "\n",
       "    .dataframe thead th {\n",
       "        text-align: right;\n",
       "    }\n",
       "</style>\n",
       "<table border=\"1\" class=\"dataframe\">\n",
       "  <thead>\n",
       "    <tr style=\"text-align: right;\">\n",
       "      <th></th>\n",
       "      <th>Brand</th>\n",
       "      <th>Model</th>\n",
       "      <th>Year</th>\n",
       "      <th>Kilometers_Driven</th>\n",
       "      <th>Fuel_Type</th>\n",
       "      <th>Transmission</th>\n",
       "      <th>Owner_Type</th>\n",
       "      <th>Mileage</th>\n",
       "      <th>Engine</th>\n",
       "      <th>Power</th>\n",
       "      <th>Seats</th>\n",
       "      <th>Price</th>\n",
       "      <th>paint_color</th>\n",
       "    </tr>\n",
       "  </thead>\n",
       "  <tbody>\n",
       "    <tr>\n",
       "      <th>0</th>\n",
       "      <td>Maruti</td>\n",
       "      <td>Wagon R</td>\n",
       "      <td>2010</td>\n",
       "      <td>72000</td>\n",
       "      <td>CNG</td>\n",
       "      <td>Manual</td>\n",
       "      <td>First</td>\n",
       "      <td>26.60</td>\n",
       "      <td>998.0</td>\n",
       "      <td>58.16</td>\n",
       "      <td>5.0</td>\n",
       "      <td>1.75</td>\n",
       "      <td>blue</td>\n",
       "    </tr>\n",
       "    <tr>\n",
       "      <th>1</th>\n",
       "      <td>Hyundai</td>\n",
       "      <td>Creta</td>\n",
       "      <td>2015</td>\n",
       "      <td>41000</td>\n",
       "      <td>Diesel</td>\n",
       "      <td>Manual</td>\n",
       "      <td>First</td>\n",
       "      <td>19.67</td>\n",
       "      <td>1582.0</td>\n",
       "      <td>126.2</td>\n",
       "      <td>5.0</td>\n",
       "      <td>12.50</td>\n",
       "      <td>blue</td>\n",
       "    </tr>\n",
       "    <tr>\n",
       "      <th>2</th>\n",
       "      <td>Honda</td>\n",
       "      <td>Jazz</td>\n",
       "      <td>2011</td>\n",
       "      <td>46000</td>\n",
       "      <td>Petrol</td>\n",
       "      <td>Manual</td>\n",
       "      <td>First</td>\n",
       "      <td>18.20</td>\n",
       "      <td>1199.0</td>\n",
       "      <td>88.7</td>\n",
       "      <td>5.0</td>\n",
       "      <td>4.50</td>\n",
       "      <td>blue</td>\n",
       "    </tr>\n",
       "    <tr>\n",
       "      <th>3</th>\n",
       "      <td>Maruti</td>\n",
       "      <td>Ertiga</td>\n",
       "      <td>2012</td>\n",
       "      <td>87000</td>\n",
       "      <td>Diesel</td>\n",
       "      <td>Manual</td>\n",
       "      <td>First</td>\n",
       "      <td>20.77</td>\n",
       "      <td>1248.0</td>\n",
       "      <td>88.76</td>\n",
       "      <td>7.0</td>\n",
       "      <td>6.00</td>\n",
       "      <td>orange</td>\n",
       "    </tr>\n",
       "    <tr>\n",
       "      <th>4</th>\n",
       "      <td>Audi</td>\n",
       "      <td>A4</td>\n",
       "      <td>2013</td>\n",
       "      <td>40670</td>\n",
       "      <td>Diesel</td>\n",
       "      <td>Automatic</td>\n",
       "      <td>Second</td>\n",
       "      <td>15.20</td>\n",
       "      <td>1968.0</td>\n",
       "      <td>140.8</td>\n",
       "      <td>5.0</td>\n",
       "      <td>17.74</td>\n",
       "      <td>NaN</td>\n",
       "    </tr>\n",
       "  </tbody>\n",
       "</table>\n",
       "</div>"
      ],
      "text/plain": [
       "     Brand    Model  Year  Kilometers_Driven Fuel_Type Transmission  \\\n",
       "0   Maruti  Wagon R  2010              72000       CNG       Manual   \n",
       "1  Hyundai    Creta  2015              41000    Diesel       Manual   \n",
       "2    Honda     Jazz  2011              46000    Petrol       Manual   \n",
       "3   Maruti   Ertiga  2012              87000    Diesel       Manual   \n",
       "4     Audi       A4  2013              40670    Diesel    Automatic   \n",
       "\n",
       "  Owner_Type  Mileage  Engine  Power  Seats  Price paint_color  \n",
       "0      First    26.60   998.0  58.16    5.0   1.75        blue  \n",
       "1      First    19.67  1582.0  126.2    5.0  12.50        blue  \n",
       "2      First    18.20  1199.0   88.7    5.0   4.50        blue  \n",
       "3      First    20.77  1248.0  88.76    7.0   6.00      orange  \n",
       "4     Second    15.20  1968.0  140.8    5.0  17.74         NaN  "
      ]
     },
     "execution_count": 6,
     "metadata": {},
     "output_type": "execute_result"
    }
   ],
   "source": [
    "print(car_data.shape)\n",
    "car_data.head(5)"
   ]
  },
  {
   "cell_type": "markdown",
   "metadata": {},
   "source": [
    "### Change some column names using rename() function"
   ]
  },
  {
   "cell_type": "code",
   "execution_count": 7,
   "metadata": {},
   "outputs": [
    {
     "data": {
      "text/plain": [
       "Index(['Brand', 'Model', 'Year_of_Registration', 'Odometer_Reading',\n",
       "       'Fuel_Type', 'Transmission_Type', 'Owner_Type', 'Mileage_in_kmpl',\n",
       "       'Engine_in_cc', 'Power_in_bhp', 'Number_of_seats', 'Price_in_lakh',\n",
       "       'paint_color'],\n",
       "      dtype='object')"
      ]
     },
     "execution_count": 7,
     "metadata": {},
     "output_type": "execute_result"
    }
   ],
   "source": [
    "car_data.rename(columns={'Year':'Year_of_Registration',  \n",
    "                             'Kilometers_Driven':'Odometer_Reading',\n",
    "                             'Transmission':'Transmission_Type',\n",
    "                             'Mileage':'Mileage_in_kmpl',\n",
    "                             'Engine':'Engine_in_cc',\n",
    "                             'Power':'Power_in_bhp',\n",
    "                             'Seats':'Number_of_seats',\n",
    "                             'Price':'Price_in_lakh'},                         \n",
    "                   inplace=True)\n",
    "car_data.columns"
   ]
  },
  {
   "cell_type": "markdown",
   "metadata": {},
   "source": [
    "### read data"
   ]
  },
  {
   "cell_type": "code",
   "execution_count": 8,
   "metadata": {},
   "outputs": [
    {
     "name": "stdout",
     "output_type": "stream",
     "text": [
      "<class 'pandas.core.frame.DataFrame'>\n",
      "Int64Index: 6018 entries, 0 to 6018\n",
      "Data columns (total 13 columns):\n",
      " #   Column                Non-Null Count  Dtype  \n",
      "---  ------                --------------  -----  \n",
      " 0   Brand                 6018 non-null   object \n",
      " 1   Model                 6018 non-null   object \n",
      " 2   Year_of_Registration  6018 non-null   int64  \n",
      " 3   Odometer_Reading      6018 non-null   int64  \n",
      " 4   Fuel_Type             6018 non-null   object \n",
      " 5   Transmission_Type     6018 non-null   object \n",
      " 6   Owner_Type            6018 non-null   object \n",
      " 7   Mileage_in_kmpl       6016 non-null   float64\n",
      " 8   Engine_in_cc          5982 non-null   float64\n",
      " 9   Power_in_bhp          5982 non-null   object \n",
      " 10  Number_of_seats       5976 non-null   float64\n",
      " 11  Price_in_lakh         6018 non-null   float64\n",
      " 12  paint_color           3894 non-null   object \n",
      "dtypes: float64(4), int64(2), object(7)\n",
      "memory usage: 658.2+ KB\n"
     ]
    }
   ],
   "source": [
    "car_data_dup=car_data\n",
    "car_data_dup.info()"
   ]
  },
  {
   "cell_type": "markdown",
   "metadata": {},
   "source": [
    "## handling categorical values as numerical values"
   ]
  },
  {
   "cell_type": "code",
   "execution_count": 9,
   "metadata": {},
   "outputs": [
    {
     "data": {
      "text/html": [
       "<div>\n",
       "<style scoped>\n",
       "    .dataframe tbody tr th:only-of-type {\n",
       "        vertical-align: middle;\n",
       "    }\n",
       "\n",
       "    .dataframe tbody tr th {\n",
       "        vertical-align: top;\n",
       "    }\n",
       "\n",
       "    .dataframe thead th {\n",
       "        text-align: right;\n",
       "    }\n",
       "</style>\n",
       "<table border=\"1\" class=\"dataframe\">\n",
       "  <thead>\n",
       "    <tr style=\"text-align: right;\">\n",
       "      <th></th>\n",
       "      <th>Brand</th>\n",
       "      <th>Model</th>\n",
       "      <th>Year_of_Registration</th>\n",
       "      <th>Odometer_Reading</th>\n",
       "      <th>Fuel_Type</th>\n",
       "      <th>Transmission_Type</th>\n",
       "      <th>Owner_Type</th>\n",
       "      <th>Mileage_in_kmpl</th>\n",
       "      <th>Engine_in_cc</th>\n",
       "      <th>Power_in_bhp</th>\n",
       "      <th>Number_of_seats</th>\n",
       "      <th>Price_in_lakh</th>\n",
       "      <th>paint_color</th>\n",
       "      <th>Brand_id</th>\n",
       "      <th>Model_id</th>\n",
       "      <th>Fuel_Type_id</th>\n",
       "      <th>Transmission_id</th>\n",
       "      <th>Owner_Type_id</th>\n",
       "      <th>paint_id</th>\n",
       "    </tr>\n",
       "  </thead>\n",
       "  <tbody>\n",
       "    <tr>\n",
       "      <th>0</th>\n",
       "      <td>Maruti</td>\n",
       "      <td>Wagon R</td>\n",
       "      <td>2010</td>\n",
       "      <td>72000</td>\n",
       "      <td>CNG</td>\n",
       "      <td>Manual</td>\n",
       "      <td>First</td>\n",
       "      <td>26.60</td>\n",
       "      <td>998.0</td>\n",
       "      <td>58.16</td>\n",
       "      <td>5.0</td>\n",
       "      <td>1.75</td>\n",
       "      <td>blue</td>\n",
       "      <td>18</td>\n",
       "      <td>189</td>\n",
       "      <td>0</td>\n",
       "      <td>1</td>\n",
       "      <td>0</td>\n",
       "      <td>1</td>\n",
       "    </tr>\n",
       "    <tr>\n",
       "      <th>1</th>\n",
       "      <td>Hyundai</td>\n",
       "      <td>Creta</td>\n",
       "      <td>2015</td>\n",
       "      <td>41000</td>\n",
       "      <td>Diesel</td>\n",
       "      <td>Manual</td>\n",
       "      <td>First</td>\n",
       "      <td>19.67</td>\n",
       "      <td>1582.0</td>\n",
       "      <td>126.2</td>\n",
       "      <td>5.0</td>\n",
       "      <td>12.50</td>\n",
       "      <td>blue</td>\n",
       "      <td>10</td>\n",
       "      <td>53</td>\n",
       "      <td>1</td>\n",
       "      <td>1</td>\n",
       "      <td>0</td>\n",
       "      <td>1</td>\n",
       "    </tr>\n",
       "    <tr>\n",
       "      <th>2</th>\n",
       "      <td>Honda</td>\n",
       "      <td>Jazz</td>\n",
       "      <td>2011</td>\n",
       "      <td>46000</td>\n",
       "      <td>Petrol</td>\n",
       "      <td>Manual</td>\n",
       "      <td>First</td>\n",
       "      <td>18.20</td>\n",
       "      <td>1199.0</td>\n",
       "      <td>88.7</td>\n",
       "      <td>5.0</td>\n",
       "      <td>4.50</td>\n",
       "      <td>blue</td>\n",
       "      <td>9</td>\n",
       "      <td>99</td>\n",
       "      <td>4</td>\n",
       "      <td>1</td>\n",
       "      <td>0</td>\n",
       "      <td>1</td>\n",
       "    </tr>\n",
       "    <tr>\n",
       "      <th>3</th>\n",
       "      <td>Maruti</td>\n",
       "      <td>Ertiga</td>\n",
       "      <td>2012</td>\n",
       "      <td>87000</td>\n",
       "      <td>Diesel</td>\n",
       "      <td>Manual</td>\n",
       "      <td>First</td>\n",
       "      <td>20.77</td>\n",
       "      <td>1248.0</td>\n",
       "      <td>88.76</td>\n",
       "      <td>7.0</td>\n",
       "      <td>6.00</td>\n",
       "      <td>orange</td>\n",
       "      <td>18</td>\n",
       "      <td>69</td>\n",
       "      <td>1</td>\n",
       "      <td>1</td>\n",
       "      <td>0</td>\n",
       "      <td>6</td>\n",
       "    </tr>\n",
       "    <tr>\n",
       "      <th>4</th>\n",
       "      <td>Audi</td>\n",
       "      <td>A4</td>\n",
       "      <td>2013</td>\n",
       "      <td>40670</td>\n",
       "      <td>Diesel</td>\n",
       "      <td>Automatic</td>\n",
       "      <td>Second</td>\n",
       "      <td>15.20</td>\n",
       "      <td>1968.0</td>\n",
       "      <td>140.8</td>\n",
       "      <td>5.0</td>\n",
       "      <td>17.74</td>\n",
       "      <td>NaN</td>\n",
       "      <td>1</td>\n",
       "      <td>10</td>\n",
       "      <td>1</td>\n",
       "      <td>0</td>\n",
       "      <td>2</td>\n",
       "      <td>-1</td>\n",
       "    </tr>\n",
       "  </tbody>\n",
       "</table>\n",
       "</div>"
      ],
      "text/plain": [
       "     Brand    Model  Year_of_Registration  Odometer_Reading Fuel_Type  \\\n",
       "0   Maruti  Wagon R                  2010             72000       CNG   \n",
       "1  Hyundai    Creta                  2015             41000    Diesel   \n",
       "2    Honda     Jazz                  2011             46000    Petrol   \n",
       "3   Maruti   Ertiga                  2012             87000    Diesel   \n",
       "4     Audi       A4                  2013             40670    Diesel   \n",
       "\n",
       "  Transmission_Type Owner_Type  Mileage_in_kmpl  Engine_in_cc Power_in_bhp  \\\n",
       "0            Manual      First            26.60         998.0        58.16   \n",
       "1            Manual      First            19.67        1582.0        126.2   \n",
       "2            Manual      First            18.20        1199.0         88.7   \n",
       "3            Manual      First            20.77        1248.0        88.76   \n",
       "4         Automatic     Second            15.20        1968.0        140.8   \n",
       "\n",
       "   Number_of_seats  Price_in_lakh paint_color  Brand_id  Model_id  \\\n",
       "0              5.0           1.75        blue        18       189   \n",
       "1              5.0          12.50        blue        10        53   \n",
       "2              5.0           4.50        blue         9        99   \n",
       "3              7.0           6.00      orange        18        69   \n",
       "4              5.0          17.74         NaN         1        10   \n",
       "\n",
       "   Fuel_Type_id  Transmission_id  Owner_Type_id  paint_id  \n",
       "0             0                1              0         1  \n",
       "1             1                1              0         1  \n",
       "2             4                1              0         1  \n",
       "3             1                1              0         6  \n",
       "4             1                0              2        -1  "
      ]
     },
     "execution_count": 9,
     "metadata": {},
     "output_type": "execute_result"
    }
   ],
   "source": [
    "car_data_dup['Brand_id']=pd.Categorical(car_data_dup.Brand).codes\n",
    "car_data_dup['Model_id']=pd.Categorical(car_data_dup.Model).codes\n",
    "car_data_dup['Fuel_Type_id']=pd.Categorical(car_data_dup.Fuel_Type).codes\n",
    "car_data_dup['Transmission_id']=pd.Categorical(car_data_dup.Transmission_Type).codes\n",
    "car_data_dup['Owner_Type_id']=pd.Categorical(car_data_dup.Owner_Type).codes\n",
    "car_data_dup['paint_id']=pd.Categorical(car_data_dup.paint_color).codes\n",
    "car_data_dup.head()"
   ]
  },
  {
   "cell_type": "markdown",
   "metadata": {},
   "source": [
    "### data info"
   ]
  },
  {
   "cell_type": "code",
   "execution_count": 10,
   "metadata": {},
   "outputs": [
    {
     "data": {
      "text/plain": [
       "Index(['Brand', 'Model', 'Year_of_Registration', 'Odometer_Reading',\n",
       "       'Fuel_Type', 'Transmission_Type', 'Owner_Type', 'Mileage_in_kmpl',\n",
       "       'Engine_in_cc', 'Power_in_bhp', 'Number_of_seats', 'Price_in_lakh',\n",
       "       'paint_color', 'Brand_id', 'Model_id', 'Fuel_Type_id',\n",
       "       'Transmission_id', 'Owner_Type_id', 'paint_id'],\n",
       "      dtype='object')"
      ]
     },
     "execution_count": 10,
     "metadata": {},
     "output_type": "execute_result"
    }
   ],
   "source": [
    "car_data_dup.columns"
   ]
  },
  {
   "cell_type": "code",
   "execution_count": 11,
   "metadata": {},
   "outputs": [
    {
     "data": {
      "text/plain": [
       "Index(['Brand', 'Model', 'Year_of_Registration', 'Odometer_Reading',\n",
       "       'Fuel_Type', 'Transmission_Type', 'Owner_Type', 'Mileage_in_kmpl',\n",
       "       'Engine_in_cc', 'Power_in_bhp', 'Number_of_seats', 'Price_in_lakh',\n",
       "       'paint_color', 'Brand_id', 'Model_id', 'Fuel_Type_id',\n",
       "       'Transmission_id', 'Owner_Type_id', 'paint_id'],\n",
       "      dtype='object')"
      ]
     },
     "execution_count": 11,
     "metadata": {},
     "output_type": "execute_result"
    }
   ],
   "source": [
    "car_data_dup.dropna(inplace=True)\n",
    "cleaned_data=car_data_dup.copy()\n",
    "cleaned_data.columns"
   ]
  },
  {
   "cell_type": "code",
   "execution_count": 12,
   "metadata": {},
   "outputs": [
    {
     "data": {
      "text/plain": [
       "Index(['Year_of_Registration', 'Odometer_Reading', 'Mileage_in_kmpl',\n",
       "       'Engine_in_cc', 'Number_of_seats', 'Price_in_lakh', 'Brand_id',\n",
       "       'Model_id', 'Fuel_Type_id', 'Transmission_id', 'Owner_Type_id',\n",
       "       'paint_id'],\n",
       "      dtype='object')"
      ]
     },
     "execution_count": 12,
     "metadata": {},
     "output_type": "execute_result"
    }
   ],
   "source": [
    "car_data_dup.drop(['Brand','Model','Fuel_Type','Transmission_Type','Owner_Type','Power_in_bhp','paint_color'],axis=1,inplace=True)\n",
    "car_data_dup.columns"
   ]
  },
  {
   "cell_type": "code",
   "execution_count": 13,
   "metadata": {},
   "outputs": [
    {
     "data": {
      "text/plain": [
       "Index(['Brand', 'Model', 'Year_of_Registration', 'Odometer_Reading',\n",
       "       'Fuel_Type', 'Transmission_Type', 'Owner_Type', 'Mileage_in_kmpl',\n",
       "       'Engine_in_cc', 'Power_in_bhp', 'Number_of_seats', 'Price_in_lakh',\n",
       "       'paint_color', 'Brand_id', 'Model_id', 'Fuel_Type_id',\n",
       "       'Transmission_id', 'Owner_Type_id', 'paint_id'],\n",
       "      dtype='object')"
      ]
     },
     "execution_count": 13,
     "metadata": {},
     "output_type": "execute_result"
    }
   ],
   "source": [
    "cleaned_data.columns"
   ]
  },
  {
   "cell_type": "markdown",
   "metadata": {},
   "source": [
    "# Remove outliners"
   ]
  },
  {
   "cell_type": "code",
   "execution_count": 14,
   "metadata": {},
   "outputs": [],
   "source": [
    "car_data_dup['Odometer_Reading'] = np.where(car_data_dup['Odometer_Reading'] > 200000, 100000, car_data_dup['Odometer_Reading'])\n",
    "#car_data_dup['Mileage_in_kmpl'] = np.where(car_data_dup['Mileage_in_kmpl'] > 25 , 15, car_data_dup['Mileage_in_kmpl'])"
   ]
  },
  {
   "cell_type": "code",
   "execution_count": 15,
   "metadata": {},
   "outputs": [
    {
     "name": "stdout",
     "output_type": "stream",
     "text": [
      "<class 'pandas.core.frame.DataFrame'>\n",
      "Int64Index: 3865 entries, 0 to 6018\n",
      "Data columns (total 12 columns):\n",
      " #   Column                Non-Null Count  Dtype  \n",
      "---  ------                --------------  -----  \n",
      " 0   Year_of_Registration  3865 non-null   int64  \n",
      " 1   Odometer_Reading      3865 non-null   int64  \n",
      " 2   Mileage_in_kmpl       3865 non-null   float64\n",
      " 3   Engine_in_cc          3865 non-null   float64\n",
      " 4   Number_of_seats       3865 non-null   float64\n",
      " 5   Price_in_lakh         3865 non-null   float64\n",
      " 6   Brand_id              3865 non-null   int8   \n",
      " 7   Model_id              3865 non-null   int16  \n",
      " 8   Fuel_Type_id          3865 non-null   int8   \n",
      " 9   Transmission_id       3865 non-null   int8   \n",
      " 10  Owner_Type_id         3865 non-null   int8   \n",
      " 11  paint_id              3865 non-null   int8   \n",
      "dtypes: float64(4), int16(1), int64(2), int8(5)\n",
      "memory usage: 237.8 KB\n"
     ]
    }
   ],
   "source": [
    "car_data_dup.info()"
   ]
  },
  {
   "cell_type": "code",
   "execution_count": 16,
   "metadata": {},
   "outputs": [],
   "source": [
    "car_data_dup['Mileage_in_kmpl']=car_data_dup['Mileage_in_kmpl'].astype('int64')\n",
    "car_data_dup['Engine_in_cc']=car_data_dup['Engine_in_cc'].astype('int64')\n",
    "car_data_dup['Number_of_seats']=car_data_dup['Number_of_seats'].astype('int64')\n",
    "car_data_dup['Price_in_lakh']=car_data_dup['Price_in_lakh']*100000\n"
   ]
  },
  {
   "cell_type": "code",
   "execution_count": 17,
   "metadata": {},
   "outputs": [
    {
     "data": {
      "text/plain": [
       "<AxesSubplot:>"
      ]
     },
     "execution_count": 17,
     "metadata": {},
     "output_type": "execute_result"
    },
    {
     "data": {
      "image/png": "[encoded data removed]",
      "text/plain": [
       "<Figure size 1008x864 with 2 Axes>"
      ]
     },
     "metadata": {
      "needs_background": "light"
     },
     "output_type": "display_data"
    }
   ],
   "source": [
    "fig, ax = plt.subplots(figsize=(14,12))\n",
    "sns.heatmap(car_data_dup.corr(), annot=True)"
   ]
  },
  {
   "cell_type": "code",
   "execution_count": 18,
   "metadata": {},
   "outputs": [
    {
     "data": {
      "text/plain": [
       "Year_of_Registration      22\n",
       "Odometer_Reading        2051\n",
       "Mileage_in_kmpl           26\n",
       "Engine_in_cc             133\n",
       "Number_of_seats            8\n",
       "Price_in_lakh           1084\n",
       "Brand_id                  30\n",
       "Model_id                 199\n",
       "Fuel_Type_id               4\n",
       "Transmission_id            2\n",
       "Owner_Type_id              4\n",
       "paint_id                  12\n",
       "dtype: int64"
      ]
     },
     "execution_count": 18,
     "metadata": {},
     "output_type": "execute_result"
    }
   ],
   "source": [
    "car_data_dup.nunique()"
   ]
  },
  {
   "cell_type": "markdown",
   "metadata": {},
   "source": [
    "# modal training"
   ]
  },
  {
   "cell_type": "code",
   "execution_count": 19,
   "metadata": {},
   "outputs": [],
   "source": [
    "from sklearn.model_selection import train_test_split"
   ]
  },
  {
   "cell_type": "code",
   "execution_count": 20,
   "metadata": {},
   "outputs": [],
   "source": [
    "from sklearn import metrics"
   ]
  },
  {
   "cell_type": "markdown",
   "metadata": {},
   "source": [
    "### Separate the dataset into Inputs and Target (Response Variable)"
   ]
  },
  {
   "cell_type": "code",
   "execution_count": 21,
   "metadata": {},
   "outputs": [],
   "source": [
    "X = car_data_dup.drop('Price_in_lakh', axis = 1 )\n",
    "Y = car_data_dup['Price_in_lakh']"
   ]
  },
  {
   "cell_type": "markdown",
   "metadata": {},
   "source": [
    "### Split the data into training and test data sets using test size of 0.3 and random states of 42 (default value)."
   ]
  },
  {
   "cell_type": "code",
   "execution_count": 22,
   "metadata": {},
   "outputs": [],
   "source": [
    "\n",
    "X_train, X_test, Y_train, Y_test = train_test_split(X, Y, test_size=0.30, random_state=42)"
   ]
  },
  {
   "cell_type": "markdown",
   "metadata": {},
   "source": [
    "# Model training-1 linear regression "
   ]
  },
  {
   "cell_type": "markdown",
   "metadata": {},
   "source": [
    "#### Import skearn Linear Regression and make an instance"
   ]
  },
  {
   "cell_type": "code",
   "execution_count": 23,
   "metadata": {},
   "outputs": [],
   "source": [
    "from sklearn import linear_model\n",
    "LR = linear_model.LinearRegression()"
   ]
  },
  {
   "cell_type": "markdown",
   "metadata": {},
   "source": [
    "### Fit (that is Train) the training data to Linear Regression"
   ]
  },
  {
   "cell_type": "code",
   "execution_count": 24,
   "metadata": {},
   "outputs": [
    {
     "data": {
      "text/plain": [
       "LinearRegression()"
      ]
     },
     "execution_count": 24,
     "metadata": {},
     "output_type": "execute_result"
    }
   ],
   "source": [
    "LR.fit(X_train, Y_train)"
   ]
  },
  {
   "cell_type": "markdown",
   "metadata": {},
   "source": [
    "### Linear Regression Score value"
   ]
  },
  {
   "cell_type": "code",
   "execution_count": 25,
   "metadata": {},
   "outputs": [
    {
     "data": {
      "text/plain": [
       "0.6644937200648742"
      ]
     },
     "execution_count": 25,
     "metadata": {},
     "output_type": "execute_result"
    }
   ],
   "source": [
    "LR.score(X_train,Y_train)"
   ]
  },
  {
   "cell_type": "markdown",
   "metadata": {},
   "source": [
    "### predict the values to the Linear Regression model"
   ]
  },
  {
   "cell_type": "code",
   "execution_count": 26,
   "metadata": {},
   "outputs": [
    {
     "data": {
      "text/plain": [
       "array([-586864.16449189, 2060006.86772525,  160121.72676009, ...,\n",
       "       1205875.88383827,  778618.16692418, 2156147.88809943])"
      ]
     },
     "execution_count": 26,
     "metadata": {},
     "output_type": "execute_result"
    }
   ],
   "source": [
    "Y_pred_LR = LR.predict(X_test)\n",
    "Y_pred_LR"
   ]
  },
  {
   "cell_type": "markdown",
   "metadata": {},
   "source": [
    "### R Squared Metric value for Multiple Linear Regression Model"
   ]
  },
  {
   "cell_type": "code",
   "execution_count": 27,
   "metadata": {},
   "outputs": [
    {
     "name": "stdout",
     "output_type": "stream",
     "text": [
      "R_Squared of MLR Model is: 0.67\n"
     ]
    }
   ],
   "source": [
    "\n",
    "from sklearn.metrics import r2_score\n",
    "print(\"R_Squared of MLR Model is: %0.2f\" % (r2_score(Y_test, Y_pred_LR)))"
   ]
  },
  {
   "cell_type": "markdown",
   "metadata": {},
   "source": [
    "### MAE, MSE and RMSE for Linear Regression"
   ]
  },
  {
   "cell_type": "code",
   "execution_count": 28,
   "metadata": {},
   "outputs": [
    {
     "name": "stdout",
     "output_type": "stream",
     "text": [
      "MAE: 395598.55675707007\n",
      "MSE: 378229440723.89484\n",
      "RMSE: 615003.6103340328\n"
     ]
    }
   ],
   "source": [
    "print('MAE:', metrics.mean_absolute_error(Y_test, Y_pred_LR))\n",
    "print('MSE:', metrics.mean_squared_error(Y_test, Y_pred_LR))\n",
    "print('RMSE:', np.sqrt(metrics.mean_squared_error(Y_test,Y_pred_LR)))"
   ]
  },
  {
   "cell_type": "code",
   "execution_count": 29,
   "metadata": {},
   "outputs": [
    {
     "name": "stdout",
     "output_type": "stream",
     "text": [
      "Coefficients  [ 9.45542244e+04 -3.72631146e+00 -2.69825219e+04  9.72693535e+02\n",
      " -2.47101923e+05 -1.27313994e+04  2.01377561e+02 -9.77438790e+04\n",
      " -4.88803839e+05 -1.35505927e+03  7.79827755e+03]\n",
      "Intercepts  -188309688.74263874\n"
     ]
    }
   ],
   "source": [
    "#coefficients and intercept\n",
    "print(\"Coefficients \",LR.coef_)\n",
    "print(\"Intercepts \",LR.intercept_)"
   ]
  },
  {
   "cell_type": "markdown",
   "metadata": {},
   "source": [
    "### Coefficient with respect to every column"
   ]
  },
  {
   "cell_type": "code",
   "execution_count": 30,
   "metadata": {},
   "outputs": [
    {
     "name": "stdout",
     "output_type": "stream",
     "text": [
      "                        Coefficient\n",
      "Year_of_Registration   94554.224382\n",
      "Odometer_Reading          -3.726311\n",
      "Mileage_in_kmpl       -26982.521887\n",
      "Engine_in_cc             972.693535\n",
      "Number_of_seats      -247101.923173\n",
      "Brand_id              -12731.399428\n",
      "Model_id                 201.377561\n",
      "Fuel_Type_id          -97743.878984\n",
      "Transmission_id      -488803.838677\n",
      "Owner_Type_id          -1355.059271\n",
      "paint_id                7798.277547\n"
     ]
    }
   ],
   "source": [
    "coeff = pd.DataFrame(data = LR.coef_, index = X.columns, columns = ['Coefficient'])\n",
    "print(coeff)"
   ]
  },
  {
   "cell_type": "code",
   "execution_count": 31,
   "metadata": {},
   "outputs": [
    {
     "data": {
      "image/png": "[encoded data removed]",
      "text/plain": [
       "<Figure size 864x576 with 1 Axes>"
      ]
     },
     "metadata": {
      "needs_background": "light"
     },
     "output_type": "display_data"
    }
   ],
   "source": [
    "# create the Scatter plot of Linear Regression model\n",
    "plt.figure(figsize=(12,8))\n",
    "plt.scatter(Y_test, Y_pred_LR)\n",
    "plt.xlabel('True Car Price')\n",
    "plt.ylabel('Linear Regression - Predicted Car Price')\n",
    "plt.plot([min(Y_test), max(Y_test)], [min(Y_test), max(Y_test)])\n",
    "plt.tight_layout()"
   ]
  },
  {
   "cell_type": "markdown",
   "metadata": {},
   "source": [
    "# cross validation of linear regression"
   ]
  },
  {
   "cell_type": "code",
   "execution_count": 32,
   "metadata": {},
   "outputs": [],
   "source": [
    "# import cross validation score\n",
    "from sklearn.model_selection import cross_val_score"
   ]
  },
  {
   "cell_type": "code",
   "execution_count": 33,
   "metadata": {},
   "outputs": [],
   "source": [
    "# Compute Prediction score of Multiple Linear Regression model on the dataset by splitting the data and \n",
    "# calculating the score 10 consecutive times with different splits each time\n",
    "Scores_LR = cross_val_score(LR, X, Y,cv=10)"
   ]
  },
  {
   "cell_type": "code",
   "execution_count": 34,
   "metadata": {},
   "outputs": [
    {
     "data": {
      "text/plain": [
       "array([0.65196801, 0.66785667, 0.68016336, 0.57860005, 0.66937218,\n",
       "       0.65810339, 0.5775547 , 0.68479621, 0.73225164, 0.63735223])"
      ]
     },
     "execution_count": 34,
     "metadata": {},
     "output_type": "execute_result"
    }
   ],
   "source": [
    "Scores_LR"
   ]
  },
  {
   "cell_type": "code",
   "execution_count": 35,
   "metadata": {},
   "outputs": [
    {
     "name": "stdout",
     "output_type": "stream",
     "text": [
      "Average Score of Multiple Linear Regression Model is:  65.38018451157154\n"
     ]
    }
   ],
   "source": [
    "# Calculate the mean or average score of the 10 different models\n",
    "Score_LR = cross_val_score(LR, X, Y,cv=10).mean() * 100\n",
    "print(\"Average Score of Multiple Linear Regression Model is: \" , Score_LR)"
   ]
  },
  {
   "cell_type": "code",
   "execution_count": 36,
   "metadata": {},
   "outputs": [
    {
     "name": "stdout",
     "output_type": "stream",
     "text": [
      " 0.65 (+/- 0.09)\n"
     ]
    }
   ],
   "source": [
    "## Calculate the mean or average prediction score and standard deviation\n",
    "print(\" %0.2f (+/- %0.2f)\" % (Scores_LR.mean(), Scores_LR.std() * 2))"
   ]
  },
  {
   "cell_type": "code",
   "execution_count": 37,
   "metadata": {},
   "outputs": [],
   "source": [
    "# Obtaining predictions by cross-validation cross_val_predict function\n",
    "# cross_val_predict returns for each element in the input or features data the prediction that was \n",
    "# produced for that element when it was in the test set import cross_val_predict\n",
    "from sklearn.model_selection import cross_val_predict\n",
    "cross_val_Y_pred_LR = cross_val_predict(LR, X, Y, cv=10)"
   ]
  },
  {
   "cell_type": "code",
   "execution_count": 38,
   "metadata": {},
   "outputs": [
    {
     "data": {
      "text/plain": [
       "array([-126925.48630068, 1171526.32837605,  160012.8963263 ,\n",
       "       -233836.26596913,  469122.62709641, 2165870.66594094,\n",
       "        699385.89692464,  176130.98482582,  996869.63146427,\n",
       "        983700.05358303])"
      ]
     },
     "execution_count": 38,
     "metadata": {},
     "output_type": "execute_result"
    }
   ],
   "source": [
    "# Display the first 10 of Numpy array\n",
    "cross_val_Y_pred_LR[:10]"
   ]
  },
  {
   "cell_type": "code",
   "execution_count": 39,
   "metadata": {},
   "outputs": [
    {
     "name": "stdout",
     "output_type": "stream",
     "text": [
      "(0.6538018451157154, 0.08946802034280002)\n"
     ]
    }
   ],
   "source": [
    "# Multiple Linear Regression with Cross Validation R Squared Metric.\n",
    "# R Squared has a value between 0 and 1\n",
    "# Determine the goodness of fit of predicted used car prices to the true values.\n",
    "R_Squared_result_LR = cross_val_score(LR, X, Y, cv=10, scoring='r2')\n",
    "print( (R_Squared_result_LR.mean(), R_Squared_result_LR.std() * 2))"
   ]
  },
  {
   "cell_type": "code",
   "execution_count": 40,
   "metadata": {},
   "outputs": [
    {
     "name": "stdout",
     "output_type": "stream",
     "text": [
      "MAE of Multiple Linear Regression is: -389830.37 (+/- 43047.25)\n",
      "MSE of Multiple Linear Regression is: -387327466458.00 (+/- 144824818921.11)\n",
      "RMSE of MLR is: 622356.38 (+/-) 380558.56174983946\n"
     ]
    }
   ],
   "source": [
    "# Cross Validation Linear Regression MAE\n",
    "MAE_result_LR = cross_val_score(LR, X, Y, cv=10, scoring='neg_mean_absolute_error')\n",
    "# Cross Validation Linear Regression MSE and RMSE\n",
    "MSE_result_LR = cross_val_score(LR, X, Y, cv=10, scoring='neg_mean_squared_error')\n",
    "\n",
    "print(\"MAE of Multiple Linear Regression is: %0.2f (+/- %0.2f)\" % (MAE_result_LR.mean(),MAE_result_LR.std() * 2))\n",
    "print(\"MSE of Multiple Linear Regression is: %0.2f (+/- %0.2f)\" % (MSE_result_LR.mean(),MSE_result_LR.std() * 2))\n",
    "print(\"RMSE of MLR is: %0.2f (+/-)\" % (np.sqrt(-(MSE_result_LR.mean()))), np.sqrt(MSE_result_LR.std() * 2))\n"
   ]
  },
  {
   "cell_type": "code",
   "execution_count": 41,
   "metadata": {},
   "outputs": [
    {
     "data": {
      "image/png": "[encoded data removed]",
      "text/plain": [
       "<Figure size 864x576 with 1 Axes>"
      ]
     },
     "metadata": {
      "needs_background": "light"
     },
     "output_type": "display_data"
    }
   ],
   "source": [
    "# Create Cross-Validation Scatter Plot of Linear Regression model\n",
    "plt.figure(figsize=(12,8))\n",
    "plt.scatter(Y,cross_val_Y_pred_LR)\n",
    "plt.xlabel('y - True Car Price')\n",
    "plt.ylabel('Cross-Validated Linear Regression - Predicted Car Price')\n",
    "plt.plot([min(Y), max(Y)], [min(Y), max(Y)])\n",
    "plt.tight_layout()\n",
    "plt.title('Cross-Validated Linear Regression Scatterplot')\n",
    "plt.savefig('Cross-Validated Linear Regression Scatterplot.pdf')"
   ]
  },
  {
   "cell_type": "markdown",
   "metadata": {},
   "source": [
    "# Model Training -2 Decision Tree"
   ]
  },
  {
   "cell_type": "code",
   "execution_count": 42,
   "metadata": {},
   "outputs": [],
   "source": [
    "# Import SK Learn Decision Tree Regressor\n",
    "from sklearn.tree import DecisionTreeRegressor"
   ]
  },
  {
   "cell_type": "code",
   "execution_count": 43,
   "metadata": {},
   "outputs": [],
   "source": [
    "# Create Decision Tree Regressor\n",
    "DTR = DecisionTreeRegressor(random_state=42)"
   ]
  },
  {
   "cell_type": "code",
   "execution_count": 44,
   "metadata": {},
   "outputs": [
    {
     "data": {
      "text/plain": [
       "DecisionTreeRegressor(random_state=42)"
      ]
     },
     "execution_count": 44,
     "metadata": {},
     "output_type": "execute_result"
    }
   ],
   "source": [
    "# Fit (that is Train) the training data to Decision Tree Regressor\n",
    "DTR.fit(X_train, Y_train)"
   ]
  },
  {
   "cell_type": "code",
   "execution_count": 45,
   "metadata": {},
   "outputs": [
    {
     "data": {
      "text/plain": [
       "0.7563891172378937"
      ]
     },
     "execution_count": 45,
     "metadata": {},
     "output_type": "execute_result"
    }
   ],
   "source": [
    "# Produce Decision Tree Regressor Score value\n",
    "DTR.score(X_test,Y_test)"
   ]
  },
  {
   "cell_type": "code",
   "execution_count": 46,
   "metadata": {},
   "outputs": [
    {
     "data": {
      "text/plain": [
       "array([ 170000., 1900000.,  750000., ...,  875000.,  799000., 3567000.])"
      ]
     },
     "execution_count": 46,
     "metadata": {},
     "output_type": "execute_result"
    }
   ],
   "source": [
    "# predict the values by providing the test data to the Decision Tree Regression model\n",
    "Y_pred_DTR = DTR.predict(X_test)\n",
    "# Display the first 10 of Numpy array\n",
    "Y_pred_DTR"
   ]
  },
  {
   "cell_type": "code",
   "execution_count": 47,
   "metadata": {},
   "outputs": [
    {
     "name": "stdout",
     "output_type": "stream",
     "text": [
      "R_Squared of Decision Tree Regression Model is: 0.76\n"
     ]
    }
   ],
   "source": [
    "# Compute and Display R Squared Metric value \n",
    "# for Decision Tree Regression Model\n",
    "from sklearn.metrics import r2_score\n",
    "print(\"R_Squared of Decision Tree Regression Model is: %0.2f\" % (r2_score(Y_test, Y_pred_DTR)))"
   ]
  },
  {
   "cell_type": "code",
   "execution_count": 48,
   "metadata": {},
   "outputs": [
    {
     "name": "stdout",
     "output_type": "stream",
     "text": [
      "MAE: 243710.3448275862\n",
      "MSE: 277217320689.65515\n",
      "RMSE: 526514.3119513991\n"
     ]
    }
   ],
   "source": [
    "# Dislay MAE, MSE and RMSE for Decision Tree Regression model\n",
    "print('MAE:', metrics.mean_absolute_error(Y_test, Y_pred_DTR))\n",
    "print('MSE:', metrics.mean_squared_error(Y_test, Y_pred_DTR))\n",
    "print('RMSE:', np.sqrt(metrics.mean_squared_error(Y_test,Y_pred_DTR)))"
   ]
  },
  {
   "cell_type": "code",
   "execution_count": 49,
   "metadata": {},
   "outputs": [
    {
     "data": {
      "image/png": "[encoded data removed]",
      "text/plain": [
       "<Figure size 864x576 with 1 Axes>"
      ]
     },
     "metadata": {
      "needs_background": "light"
     },
     "output_type": "display_data"
    }
   ],
   "source": [
    "# create the Scatter plot of Decision Tree Regression model\n",
    "plt.figure(figsize=(12,8))\n",
    "plt.scatter(Y_test, Y_pred_DTR)\n",
    "plt.xlabel('y_test - True Car Price')\n",
    "plt.ylabel('Decision Tree Regressor - Predicted Car Price')\n",
    "plt.plot([min(Y_test), max(Y_test)], [min(Y_test), max(Y_test)])\n",
    "plt.tight_layout()\n",
    "plt.title('Decision Tree Regression Model Scatterplot')\n",
    "plt.savefig('Decision Tree Regression Model Scatterplot.pdf')"
   ]
  },
  {
   "cell_type": "markdown",
   "metadata": {},
   "source": [
    "# Cross Validation of Decision Tree"
   ]
  },
  {
   "cell_type": "code",
   "execution_count": 50,
   "metadata": {},
   "outputs": [
    {
     "data": {
      "text/plain": [
       "array([0.76867993, 0.79451377, 0.68128753, 0.80170085, 0.77128884,\n",
       "       0.68606997, 0.72003728, 0.78174506, 0.77078309, 0.68565501])"
      ]
     },
     "execution_count": 50,
     "metadata": {},
     "output_type": "execute_result"
    }
   ],
   "source": [
    "# Compute Prediction score of Decision Tree Regression on the dataset by splitting the data and \n",
    "# calculating the score 10 consecutive times with different splits each time\n",
    "Scores_DTR = cross_val_score(DTR, X, Y, cv=10)\n",
    "# Display the Decision Tree Scores - R Squared displayed 10 Times\n",
    "Scores_DTR"
   ]
  },
  {
   "cell_type": "code",
   "execution_count": 51,
   "metadata": {},
   "outputs": [
    {
     "name": "stdout",
     "output_type": "stream",
     "text": [
      "Average Score of Decision Tree Regression Model is:  74.61761335143989\n"
     ]
    }
   ],
   "source": [
    "# Calculate the mean or average score of the 10 different models\n",
    "Score_DTR = cross_val_score(DTR, X, Y, cv=10).mean() * 100\n",
    "print(\"Average Score of Decision Tree Regression Model is: \" , Score_DTR)"
   ]
  },
  {
   "cell_type": "code",
   "execution_count": 52,
   "metadata": {},
   "outputs": [
    {
     "name": "stdout",
     "output_type": "stream",
     "text": [
      "Average Score of Decision Tree Regression Model is: 0.75 (+/- 0.09)\n"
     ]
    }
   ],
   "source": [
    "## Calculate the mean or average decision tree score and standard deviation\n",
    "print(\"Average Score of Decision Tree Regression Model is: %0.2f (+/- %0.2f)\" % (Scores_DTR.mean(), Scores_DTR.std() * 2))"
   ]
  },
  {
   "cell_type": "code",
   "execution_count": 53,
   "metadata": {},
   "outputs": [
    {
     "data": {
      "text/plain": [
       "array([ 275000., 1190000.,  265000.,  585000.,  259000., 1350000.,\n",
       "        489000.,  120000.,  790000.,  445000.])"
      ]
     },
     "execution_count": 53,
     "metadata": {},
     "output_type": "execute_result"
    }
   ],
   "source": [
    "# Obtaining predictions by cross-validation cross_val_function\n",
    "# cross_val_function returns for each element in the input or features data the prediction that was produced for that element when it was in the test set.\n",
    "# import cross_val_predict\n",
    "from sklearn.model_selection import cross_val_predict\n",
    "cross_val_Y_pred_DTR = cross_val_predict(DTR, X, Y, cv=10)\n",
    "# Display the first 10 of Numpy array\n",
    "cross_val_Y_pred_DTR[:10]"
   ]
  },
  {
   "cell_type": "code",
   "execution_count": 54,
   "metadata": {},
   "outputs": [
    {
     "name": "stdout",
     "output_type": "stream",
     "text": [
      "R Squared of DTR with Cross Validation Model is: 0.75 (+/- 0.09)\n"
     ]
    }
   ],
   "source": [
    "# Decision Tree Regression with Cross Validation R Squared Metric.\n",
    "# R Squared has a value between 0 and 1\n",
    "# Determine the goodness of fit of predicted used car prices to the true values.\n",
    "R_Squared_result_DTR = cross_val_score(DTR, X, Y, cv=10, scoring='r2')\n",
    "print(\"R Squared of DTR with Cross Validation Model is: %0.2f (+/- %0.2f)\" % (R_Squared_result_DTR.mean(), R_Squared_result_DTR.std() * 2))"
   ]
  },
  {
   "cell_type": "code",
   "execution_count": 55,
   "metadata": {},
   "outputs": [
    {
     "name": "stdout",
     "output_type": "stream",
     "text": [
      "MAE of Decision Tree Regression is: -284027236475.28 (+/- 121503581475.97)\n",
      "MSE of Decision Tree Regression is: -284027236475.28 (+/- 121503581475.97)\n",
      "RMSE of DTR is: 532942.06 (+/-) 348573.63852703007\n"
     ]
    }
   ],
   "source": [
    "# Cross Validation Decision Tree Regression MAE\n",
    "MAE_result_DTR = cross_val_score(DTR, X, Y, cv=10, scoring='neg_mean_absolute_error')\n",
    "\n",
    "# Cross Validation Decision Tree MSE and RMSE\n",
    "MAE_result_DTR = cross_val_score(DTR, X, Y, cv=10, scoring='neg_mean_squared_error')\n",
    "\n",
    "print(\"MAE of Decision Tree Regression is: %0.2f (+/- %0.2f)\" % (MAE_result_DTR.mean(), MAE_result_DTR.std() * 2))\n",
    "print(\"MSE of Decision Tree Regression is: %0.2f (+/- %0.2f)\" % (MAE_result_DTR.mean(), MAE_result_DTR.std() * 2))\n",
    "print(\"RMSE of DTR is: %0.2f (+/-)\" % (np.sqrt(-(MAE_result_DTR.mean()))), np.sqrt(MAE_result_DTR.std() * 2))"
   ]
  },
  {
   "cell_type": "code",
   "execution_count": 56,
   "metadata": {},
   "outputs": [
    {
     "data": {
      "image/png": "[encoded data removed]",
      "text/plain": [
       "<Figure size 864x576 with 1 Axes>"
      ]
     },
     "metadata": {
      "needs_background": "light"
     },
     "output_type": "display_data"
    }
   ],
   "source": [
    "# Create Scatter Plot of Decision Tree Regression model with Cross-Validation\n",
    "plt.figure(figsize=(12,8))\n",
    "plt.scatter(Y, cross_val_Y_pred_DTR)\n",
    "plt.xlabel('y - True Car Price')\n",
    "plt.ylabel('Cross-Validated Decision Tree Regression - Predicted Car Price')\n",
    "plt.plot([min(Y), max(Y)], [min(Y), max(Y)])\n",
    "plt.tight_layout()\n",
    "plt.title('Cross-Validated Decision Tree Regression Scatterplot')\n",
    "plt.savefig('Cross-Validated Decision Tree Regression Scatterplot.pdf')"
   ]
  },
  {
   "cell_type": "markdown",
   "metadata": {},
   "source": [
    "# Model Training 3 - Random Forest Algorithm"
   ]
  },
  {
   "cell_type": "code",
   "execution_count": 57,
   "metadata": {},
   "outputs": [],
   "source": [
    "# Import SK Learn Random Forest Regressor\n",
    "from sklearn.ensemble import RandomForestRegressor\n",
    "# Create Random Forest Regressor instance\n",
    "RFR = RandomForestRegressor(random_state=42)"
   ]
  },
  {
   "cell_type": "code",
   "execution_count": 58,
   "metadata": {},
   "outputs": [
    {
     "data": {
      "text/plain": [
       "RandomForestRegressor(random_state=42)"
      ]
     },
     "execution_count": 58,
     "metadata": {},
     "output_type": "execute_result"
    }
   ],
   "source": [
    "# Fit the training data to Random Forest Regressor\n",
    "RFR.fit(X_train, Y_train)"
   ]
  },
  {
   "cell_type": "code",
   "execution_count": 59,
   "metadata": {},
   "outputs": [
    {
     "data": {
      "text/plain": [
       "0.8638464716590837"
      ]
     },
     "execution_count": 59,
     "metadata": {},
     "output_type": "execute_result"
    }
   ],
   "source": [
    "# Produce Random Forest Regressor Score value\n",
    "RFR.score(X_test, Y_test)"
   ]
  },
  {
   "cell_type": "code",
   "execution_count": 60,
   "metadata": {},
   "outputs": [
    {
     "data": {
      "text/plain": [
       "array([ 186620., 1795830.,  737860., ...,  816480.,  620240., 3211220.])"
      ]
     },
     "execution_count": 60,
     "metadata": {},
     "output_type": "execute_result"
    }
   ],
   "source": [
    "# predict the values by providing the test data to the Random Forest Regression model\n",
    "Y_pred_RFR = RFR.predict(X_test)\n",
    "Y_pred_RFR"
   ]
  },
  {
   "cell_type": "code",
   "execution_count": 61,
   "metadata": {},
   "outputs": [
    {
     "name": "stdout",
     "output_type": "stream",
     "text": [
      "MAE: 191136.24137931035\n",
      "MSE: 154936084550.74713\n",
      "RMSE: 393619.21262909303\n"
     ]
    }
   ],
   "source": [
    "# Dislay MAE, MSE and RMSE for Decision Tree Regression model\n",
    "print('MAE:', metrics.mean_absolute_error(Y_test, Y_pred_RFR))\n",
    "print('MSE:', metrics.mean_squared_error(Y_test, Y_pred_RFR))\n",
    "print('RMSE:', np.sqrt(metrics.mean_squared_error(Y_test,Y_pred_RFR)))"
   ]
  },
  {
   "cell_type": "code",
   "execution_count": 62,
   "metadata": {},
   "outputs": [
    {
     "data": {
      "image/png": "[encoded data removed]",
      "text/plain": [
       "<Figure size 864x576 with 1 Axes>"
      ]
     },
     "metadata": {
      "needs_background": "light"
     },
     "output_type": "display_data"
    }
   ],
   "source": [
    "plt.figure(figsize=(12,8))\n",
    "plt.scatter(Y_test, Y_pred_RFR)\n",
    "plt.xlabel('Y_test - True Car Price')\n",
    "plt.ylabel('Random Forest Regressor - Predicted Car Price')\n",
    "plt.plot([min(Y_test), max(Y_test)], [min(Y_test), max(Y_test)])\n",
    "plt.tight_layout()"
   ]
  },
  {
   "cell_type": "code",
   "execution_count": 63,
   "metadata": {},
   "outputs": [
    {
     "data": {
      "text/plain": [
       "Index(['Brand', 'Model', 'Year_of_Registration', 'Odometer_Reading',\n",
       "       'Fuel_Type', 'Transmission_Type', 'Owner_Type', 'Mileage_in_kmpl',\n",
       "       'Engine_in_cc', 'Power_in_bhp', 'Number_of_seats', 'Price_in_lakh',\n",
       "       'paint_color', 'Brand_id', 'Model_id', 'Fuel_Type_id',\n",
       "       'Transmission_id', 'Owner_Type_id', 'paint_id'],\n",
       "      dtype='object')"
      ]
     },
     "execution_count": 63,
     "metadata": {},
     "output_type": "execute_result"
    }
   ],
   "source": [
    "cleaned_data.columns"
   ]
  },
  {
   "cell_type": "code",
   "execution_count": 64,
   "metadata": {},
   "outputs": [],
   "source": [
    "\n",
    "# Tkinter GUI\n",
    "\n",
    "from tkinter import *\n",
    "import tkinter as tk\n",
    "from PIL import Image, ImageTk\n",
    "import PIL.Image\n",
    "import PIL.ImageTk\n",
    "\n",
    "root= Tk()\n",
    "\n",
    "    \n",
    "class Placeholder_State(object):\n",
    "     __slots__ = 'normal_color', 'normal_font', 'placeholder_text', 'placeholder_color', 'placeholder_font', 'with_placeholder'\n",
    "\n",
    "def add_placeholder_to(entry, placeholder, color=\"gray26\", font=None):\n",
    "    normal_color = entry.cget(\"fg\")\n",
    "    normal_font = entry.cget(\"font\")\n",
    "    \n",
    "    if font is None:\n",
    "        font = normal_font\n",
    "\n",
    "    state = Placeholder_State()\n",
    "    state.normal_color=normal_color\n",
    "    state.normal_font=normal_font\n",
    "    state.placeholder_color=color\n",
    "    state.placeholder_font=font\n",
    "    state.placeholder_text = placeholder\n",
    "    state.with_placeholder=True\n",
    "\n",
    "    def on_focusin(event, entry=entry, state=state):\n",
    "        if state.with_placeholder:\n",
    "            entry.delete(0, \"end\")\n",
    "            entry.config(fg = state.normal_color, font=state.normal_font)\n",
    "        \n",
    "            state.with_placeholder = False\n",
    "\n",
    "    def on_focusout(event, entry=entry, state=state):\n",
    "        if entry.get() == '':\n",
    "            entry.insert(0, state.placeholder_text)\n",
    "            entry.config(fg = state.placeholder_color, font=state.placeholder_font)\n",
    "            \n",
    "            state.with_placeholder = True\n",
    "\n",
    "    entry.insert(0, placeholder)\n",
    "    entry.config(fg = color, font=font)\n",
    "\n",
    "    entry.bind('<FocusIn>', on_focusin, add=\"+\")\n",
    "    entry.bind('<FocusOut>', on_focusout, add=\"+\")\n",
    "    \n",
    "    entry.placeholder_state = state\n",
    "\n",
    "    return state\n",
    "\n",
    "\n",
    "FINAL1=StringVar(root)\n",
    "FINAL2=StringVar(root)\n",
    "FINAL1.set(\"Here is your car value!!!\\n Rs. \")\n",
    "FINAL2.set(\"0\")\n",
    "\n",
    "def click():\n",
    "    year_ip=y.get()\n",
    "    km_ip=d.get()\n",
    "    mileage_ip=milg.get()\n",
    "    engine_ip=egn.get()\n",
    "    seats_ip=seat.get()\n",
    "    brand_ip=br.get()\n",
    "    model_ip=m.get()\n",
    "    fuel_ip=f.get()\n",
    "    trans_ip=t.get()\n",
    "    owner_ip=ow.get()\n",
    "    paint_ip=p.get()\n",
    "    \n",
    "    a=np.array(cleaned_data[cleaned_data['Transmission_Type']==trans_ip].Transmission_id)\n",
    "    trans_ip=a[0]\n",
    "    a=np.array(cleaned_data[cleaned_data['Brand']==brand_ip].Brand_id)\n",
    "    brand_ip=a[0]\n",
    "    a=np.array(cleaned_data[cleaned_data['Model']==model_ip].Model_id)\n",
    "    model_ip=a[0]\n",
    "    a=np.array(cleaned_data[cleaned_data['Fuel_Type']==fuel_ip].Fuel_Type_id)\n",
    "    fuel_ip=a[0]\n",
    "    a=np.array(cleaned_data[cleaned_data['Owner_Type']==owner_ip].Owner_Type_id)\n",
    "    owner_ip=a[0]\n",
    "    a=np.array(cleaned_data[cleaned_data['paint_color']==paint_ip].paint_id)\n",
    "    paint_ip=a[0]\n",
    "\n",
    "\n",
    "    TEST=np.array([int(year_ip),int(km_ip),int(mileage_ip),int(engine_ip),int(seats_ip),int(brand_ip),int(model_ip),int(fuel_ip),int(trans_ip),int(owner_ip),int(paint_ip)])\n",
    "    TEST=pd.DataFrame([TEST])\n",
    "\n",
    "    FINAL1.set(\"Predicted price in Rupees\")\n",
    "    Label(root,textvariable=FINAL1, height=1,width=20, font='comicsansms 19 bold', bg=\"yellow\").place(x=500,y=350)\n",
    "    \n",
    "    FINAL2.set(*RFR.predict(TEST))\n",
    "    Label(root,textvariable=FINAL2, height=1,width=20, font=('verdana', 16, 'bold'), bg=\"yellow\").place(x=500,y=380)\n",
    "    \n",
    "#root.iconbitmap('python_logo.ico')\n",
    "root.title(\"CAR PRICE PREDICTOR\")\n",
    "root.geometry(\"800x700\")\n",
    "root.config(bg=\"Grey\")\n",
    "col=\"yellow\"\n",
    "fontt=('cominsansms 11 bold')\n",
    "space=50\n",
    "wid=36\n",
    "Ewidth=41\n",
    "labelfont = ('Comic Sans MS', 30, 'bold','italic')\n",
    "\n",
    "\n",
    "image = Image.open(\"f.png\")\n",
    "photo = ImageTk.PhotoImage(image)\n",
    "Label(image=photo).grid(row=0,column=0)\n",
    "\n",
    "# year of registration\n",
    "year = [\"2020\",\"2019\",\"2018\",\"2017\",\"2016\",\"2015\",\"2014\",\"2013\",\"2012\",\"2011\",\"2010\",\"2009\",\"2008\",\"2007\",\"2006\",\"2005\",\"2004\",\"2003\",\"2002\",\"2001\",\"2000\",\"1999\",\"1998\",\"1997\",\"1996\",\"1995\"]\n",
    "year.sort()\n",
    "y = StringVar(root)\n",
    "y.set(\"Year_of_Registration\")\n",
    "drop3 = OptionMenu(root, y, *year)\n",
    "drop3.config(font=fontt,bg=col ,width=wid)\n",
    "drop3.place(x=space,y=space+50)\n",
    "drop3['menu'].config(font=('verdana',(15)),bg=col)\n",
    "\n",
    "\n",
    "\n",
    "# model type\n",
    "model = ['Wagon R', 'Creta', 'Jazz', 'Ertiga', 'A4', 'EON', 'Micra',\n",
    "       'Innova', 'Vento', 'Indica', 'Ciaz', 'City', 'Swift', 'Rover',\n",
    "       'Pajero', 'Amaze', 'Duster', 'New', 'i20', 'Alto', 'Vitara', 'KUV', 'Polo',\n",
    "       'Nano', 'Elantra', 'Xcent', 'Thar', 'Grand', 'KWID', 'i10',\n",
    "       'X-Trail', 'Zen', 'Figo', 'XUV500', 'Brio', 'Fiesta', 'Santro', 'Zest', 'Ritz',\n",
    "       'Fortuner', 'Ecosport', 'Verna', 'GO', 'Omni', 'Etios',\n",
    "       'Eeco', 'Scorpio', 'Beat',]\n",
    "model.sort()\n",
    "m = StringVar(root)\n",
    "m.set(\"Model\")\n",
    "drop3 = OptionMenu(root, m, *model)\n",
    "drop3.config(font=fontt,bg=col ,width=wid)\n",
    "drop3.place(x=space,y=space+100)\n",
    "drop3['menu'].config(font=('verdana',(15)),bg=col)\n",
    "\n",
    "\n",
    "\n",
    "# fuel type\n",
    "Fuel = ['CNG', 'Diesel', 'Petrol', 'LPG', 'Electric']\n",
    "Fuel.sort()\n",
    "f = StringVar(root)\n",
    "f.set(\"Fuel_Type\")\n",
    "drop5 = OptionMenu(root, f, *Fuel)\n",
    "drop5.config(font=fontt,bg=col ,width=wid)\n",
    "drop5.place(x=space,y=space+150)\n",
    "drop5['menu'].config(font=('Courier',(15)),bg=col)\n",
    "\n",
    "\n",
    "\n",
    "#paint_color\n",
    "paint = ['blue', 'orange', 'white', 'black', 'silver', 'red', 'grey',\n",
    "       'purple', 'custom', 'green', 'brown', 'yellow']\n",
    "paint.sort()\n",
    "p = StringVar(root)\n",
    "p.set(\"paint_color\")\n",
    "drop8 = OptionMenu(root, p, *paint)\n",
    "drop8.config(font=fontt,bg=col ,width=wid)\n",
    "drop8.place(x=space,y=space+200)\n",
    "drop8['menu'].config(font=('verdana',(15)),bg=col)\n",
    "\n",
    "\n",
    "\n",
    "\n",
    "# brand value\n",
    "brand = ['Maruti', 'Hyundai', 'Honda', 'Audi', 'Nissan', 'Toyota',\n",
    "       'Volkswagen', 'Tata', 'Land', 'Mitsubishi', 'Renault',\n",
    "       'Mercedes-Benz', 'BMW', 'Mahindra', 'Ford', 'Porsche', 'Datsun',\n",
    "       'Jaguar', 'Volvo', 'Chevrolet', 'Skoda', 'Mini', 'Fiat', 'Jeep',\n",
    "       'Smart', 'Ambassador', 'Isuzu', 'ISUZU', 'Force', 'Bentley',\n",
    "       'Lamborghini']\n",
    "brand.sort()\n",
    "br = StringVar(root)\n",
    "br.set(\"Brand\")\n",
    "drop2 = OptionMenu(root, br, *brand)\n",
    "drop2.config(font=fontt,bg=col ,width=wid)\n",
    "drop2.place(x=space+400,y=space+50)\n",
    "drop2['menu'].config(font=('verdana',(15)),bg=col)\n",
    "\n",
    "\n",
    "\n",
    "\n",
    "\n",
    "# Transmission_Type\n",
    "Transmission = ['Automatic','Manual']\n",
    "t = StringVar(root)\n",
    "t.set(\"Transmission_Type\")\n",
    "drop6 = OptionMenu(root, t, *Transmission)\n",
    "drop6.config(font=fontt,bg=col ,width=wid)\n",
    "drop6.place(x=space+400,y=space+100)\n",
    "drop6['menu'].config(font=('verdana',(15)),bg=col)\n",
    "\n",
    "\n",
    "\n",
    "\n",
    "#Owner_Type\n",
    "owner = ['First', 'Second', 'Third', 'Fourth & Above',]\n",
    "ow = StringVar(root)\n",
    "ow.set(\"Owner_Type\")\n",
    "drop7 = OptionMenu(root, ow, *owner)\n",
    "drop7.config(font=fontt,bg=col ,width=wid)\n",
    "drop7.place(x=space+400,y=space+150)\n",
    "drop7['menu'].config(font=('verdana',(15)),bg=col)\n",
    "\n",
    "\n",
    "\n",
    "\n",
    "\n",
    "# Odometer_Reading\n",
    "d = IntVar(root)\n",
    "e1 = tk.Entry(root,textvariable=d)\n",
    "e1.config(font=fontt,bg=col ,width=Ewidth)\n",
    "e1.place(x=space+800,y=space+50)\n",
    "add_placeholder_to(e1,'\\tOdometer_Reading - ')\n",
    "\n",
    "\n",
    "#mileage_in_kmpl\n",
    "milg = IntVar(root)\n",
    "e2 = tk.Entry(root,textvariable=milg)\n",
    "e2.config(font=fontt,bg=col ,width=Ewidth)\n",
    "e2.place(x=space+800,y=space+100)\n",
    "add_placeholder_to(e2, '\\tMileage_in_kmpl -  ')\n",
    "\n",
    "\n",
    "\n",
    "#Engine_in_cc\n",
    "egn = IntVar(root)\n",
    "e3 = tk.Entry(root,textvariable=egn)\n",
    "e3.config(font=fontt,bg=col ,width=Ewidth)\n",
    "e3.place(x=space+800,y=space+160)\n",
    "add_placeholder_to(e3, '\\tEngine_in_cc -  ')\n",
    "\n",
    "\n",
    "#Number_of_seats\n",
    "seat = IntVar(root)\n",
    "e4 = tk.Entry(root,textvariable=seat)\n",
    "e4.config(font=fontt,bg=col ,width=Ewidth)\n",
    "e4.place(x=space+800,y=space+200)\n",
    "add_placeholder_to(e4, '\\tNumber_of_Seats - ')\n",
    "\n",
    "\n",
    "button = tk.Button(root, text='PREDICT', width=25, command=lambda:click())\n",
    "button.config(font=fontt,bg=\"green\",width=15,fg=\"white\")\n",
    "button.place(x=40,y=space+570)\n",
    "\n",
    "button = tk.Button(root, text='EXIT', width=25, command=root.destroy )\n",
    "button.config(font=fontt,bg=\"red\",width=15,fg=\"white\")\n",
    "button.place(x=200,y=space+570)\n",
    "\n",
    "root.mainloop()"
   ]
  },
  {
   "cell_type": "code",
   "execution_count": null,
   "metadata": {},
   "outputs": [],
   "source": []
  },
  {
   "cell_type": "code",
   "execution_count": null,
   "metadata": {},
   "outputs": [],
   "source": []
  },
  {
   "cell_type": "code",
   "execution_count": null,
   "metadata": {},
   "outputs": [],
   "source": []
  },
  {
   "cell_type": "code",
   "execution_count": null,
   "metadata": {},
   "outputs": [],
   "source": []
  },
  {
   "cell_type": "code",
   "execution_count": null,
   "metadata": {},
   "outputs": [],
   "source": []
  },
  {
   "cell_type": "code",
   "execution_count": null,
   "metadata": {},
   "outputs": [],
   "source": []
  }
 ],
 "metadata": {
  "kernelspec": {
   "display_name": "Python 3",
   "language": "python",
   "name": "python3"
  },
  "language_info": {
   "codemirror_mode": {
    "name": "ipython",
    "version": 3
   },
   "file_extension": ".py",
   "mimetype": "text/x-python",
   "name": "python",
   "nbconvert_exporter": "python",
   "pygments_lexer": "ipython3",
   "version": "3.8.5"
  }
 },
 "nbformat": 4,
 "nbformat_minor": 4
}
